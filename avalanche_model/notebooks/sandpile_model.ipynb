{
 "cells": [
  {
   "cell_type": "code",
   "execution_count": 70,
   "metadata": {},
   "outputs": [],
   "source": [
    "import numpy as np \n",
    "from random import random\n",
    "import matplotlib.pyplot as plt\n",
    "from pathlib import Path\n",
    "from datetime import datetime\n",
    "import os\n",
    "from PIL import Image\n",
    "import io\n",
    "%matplotlib inline"
   ]
  },
  {
   "cell_type": "code",
   "execution_count": null,
   "metadata": {},
   "outputs": [],
   "source": []
  },
  {
   "cell_type": "code",
   "execution_count": 2,
   "metadata": {},
   "outputs": [],
   "source": [
    "def sandpile_model(grid_length: int, threshold: float=0.2, run_until: int=1):\n",
    "\n",
    "    # initialise grid\n",
    "    grid = np.zeros(grid_length)\n",
    "\n",
    "    # list to hold historic of sandpile\n",
    "    historic = []\n",
    "    historic.append(grid.copy())\n",
    "\n",
    "    # list to hold times of avalanches\n",
    "    avtimes = []\n",
    "\n",
    "    # initialise variables for sandpile model\n",
    "    avalanche = False\n",
    "    time = 0\n",
    "    swas = 0\n",
    "\n",
    "\n",
    "    # run sandpile model\n",
    "    while swas < run_until:\n",
    "        \n",
    "        # Add sand\n",
    "        sandin = 0.01 * random()\n",
    "        grid[0] = grid[0] + sandin\n",
    "        \n",
    "        # Check cells for avalanche conditions\n",
    "        for i in range(1, len(grid)):\n",
    "            \n",
    "            if round(grid[i-1] - grid[i], 6) < threshold:\n",
    "                # no avalanche conditions.-> \n",
    "                # avalanche doesnt start or if avalanche, it stops.\n",
    "                if avalanche:\n",
    "                    # remove last grid copy to avoid double\n",
    "                    historic = historic[:-1]\n",
    "                break\n",
    "                \n",
    "            elif round(grid[i-1] - grid[i], 6) >= threshold:\n",
    "                # avalanche starts or continues\n",
    "                if i == 1:\n",
    "                    # If first cell, need to make sure avalanche \n",
    "                    # starts at threshold, not past it.\n",
    "                    \n",
    "                    # correct time\n",
    "                    overby = grid[i-1] - grid[i] - threshold\n",
    "                    needed_fraction = (sandin-overby)/sandin\n",
    "                    corrected_time = 1 * needed_fraction\n",
    "                    \n",
    "                    # correct sand in grid\n",
    "                    grid[i-1] = grid[i] + threshold\n",
    "                \n",
    "                # Sand is flattened across n + 1 cells\n",
    "                sandtoshare = sum(grid[:i+1])/(i+1)\n",
    "                for j in range(len(grid[:i+1])):\n",
    "                    grid[j] = sandtoshare\n",
    "                \n",
    "                # Avalanche length\n",
    "                avlench = i\n",
    "                \n",
    "                # if threshold passed in final cell,\n",
    "                # systemwide avalanche -> grid empties\n",
    "                if grid[-1] >= threshold:\n",
    "                    grid = np.zeros(grid_length)\n",
    "                    avlench = len(grid)\n",
    "                    swas += 1\n",
    "                \n",
    "                # set avalanche in progress to true\n",
    "                avalanche = True\n",
    "                \n",
    "                # add copy of grid, to see avalanche progression\n",
    "                historic.append(grid.copy())\n",
    "        \n",
    "        if avalanche:\n",
    "            avtimes.append((avlench, round(time,2)))\n",
    "            avalanche = False\n",
    "            time = time + corrected_time\n",
    "        else:\n",
    "            time += 1\n",
    "        \n",
    "        #add copy of grid to see sandpile progression\n",
    "        historic.append(grid.copy())\n",
    "\n",
    "    return historic, avtimes"
   ]
  },
  {
   "cell_type": "code",
   "execution_count": 95,
   "metadata": {},
   "outputs": [],
   "source": [
    "# grid length = 16 (should be minimum 16 or even 32 to get decent statistical graphs later on, \n",
    "# else 8 is good for just making the gifs)\n",
    "# threshold = 0.2\n",
    "# number of systemwide avalances = 1\n",
    "historic, avtimes = sandpile_model(8, 0.2, 1)"
   ]
  },
  {
   "cell_type": "code",
   "execution_count": null,
   "metadata": {},
   "outputs": [],
   "source": []
  },
  {
   "cell_type": "code",
   "execution_count": null,
   "metadata": {},
   "outputs": [],
   "source": []
  },
  {
   "cell_type": "code",
   "execution_count": 96,
   "metadata": {},
   "outputs": [],
   "source": [
    "# To make figures of grid to stritch together with PIL to make gif\n",
    "# Is quite heavy on processing so can just save images and set make_gif to false if you want and then\n",
    "# make gif using imagemagick for example \n",
    "\n",
    "def make_sandpile_graphics(grid_list: list, make_gif=True, save_single_images=False) -> None:\n",
    "    \n",
    "    now = datetime.now().strftime('%Y%m%d-%H%M')\n",
    "    \n",
    "    Path(f\"../figures/test_{now}\").mkdir(parents=True, exist_ok=True)\n",
    "    \n",
    "    images = []\n",
    "    \n",
    "    for i, grid in enumerate(grid_list):\n",
    "        fig, ax = plt.subplots(1, figsize=(6, 6))\n",
    "        \n",
    "        ax.set_ylim(0, 1)\n",
    "        ax.set_yticks([0, 0.1, 0.2, 0.4, 0.6, 0.8, 1])\n",
    "        ax.set_xlim(0, len(grid_list[0])+1)\n",
    "        \n",
    "        ax.set_xticks([i for i in [2**j for j in list(range(len(grid_list[0])))] if i <= len(grid_list[0])])\n",
    "        ax.set_ylabel('Sand height', fontsize=12)\n",
    "        ax.set_xlabel('Cell', fontsize=12)\n",
    "        ax.set_title(f'Sandpile at t = {i}', fontsize=14)\n",
    "        \n",
    "        ax.bar(range(1, len(grid_list[0])+1), grid, align='center')\n",
    "        \n",
    "        if save_single_images:\n",
    "            plt.savefig(f'../figures/test_{now}/image_{str(i).zfill(4)}.png')\n",
    "    \n",
    "        buf = io.BytesIO()\n",
    "        fig.savefig(buf, format='png', dpi = 200)\n",
    "        buf.seek(0)\n",
    "        images.append(Image.open(buf).convert(\"RGB\"))\n",
    "        plt.close()\n",
    "    \n",
    "    if make_gif:\n",
    "        images[0].save(f'../figures/test_{now}/sandpile.gif',\n",
    "                   save_all=True, append_images=images[1:], optimize=False, compress_level=1,\n",
    "                       duration=40, loop=1, quality=95)\n",
    "    \n",
    "    \n",
    "        \n",
    "    \n",
    "    "
   ]
  },
  {
   "cell_type": "code",
   "execution_count": 97,
   "metadata": {},
   "outputs": [],
   "source": [
    "make_sandpile_graphics(historic,make_gif=True,save_single_images=False)"
   ]
  },
  {
   "cell_type": "code",
   "execution_count": null,
   "metadata": {},
   "outputs": [],
   "source": []
  },
  {
   "cell_type": "code",
   "execution_count": null,
   "metadata": {},
   "outputs": [],
   "source": []
  },
  {
   "cell_type": "code",
   "execution_count": null,
   "metadata": {},
   "outputs": [],
   "source": []
  },
  {
   "cell_type": "code",
   "execution_count": 90,
   "metadata": {},
   "outputs": [],
   "source": [
    "# get list of time differences between avalanches of size n\n",
    "# if n is False, gives time between aavalanches of all sizes\n",
    "def time_between_avalanches_size_n(avalanche_times: list, n: int=False) -> list:\n",
    "    if n:\n",
    "        right_size = list(filter(lambda x: x[0] == n, avalanche_times))\n",
    "    else:\n",
    "        right_size = avalanche_times[:]\n",
    "    diffs = [i[1] -j[1] for i,j in zip(right_size[1:], right_size[:-1])]\n",
    "\n",
    "    return diffs"
   ]
  },
  {
   "cell_type": "code",
   "execution_count": null,
   "metadata": {},
   "outputs": [],
   "source": []
  },
  {
   "cell_type": "code",
   "execution_count": null,
   "metadata": {},
   "outputs": [],
   "source": []
  },
  {
   "cell_type": "code",
   "execution_count": 92,
   "metadata": {},
   "outputs": [],
   "source": [
    "# plot distribution of waiting times between avalanches of size n\n",
    "# if n is False, gives plot between aavalanches of all sizes\n",
    "def plot_waiting_time_hist(all_times: list, av_size: int=False) -> None:\n",
    "    \n",
    "    waiting_times = time_between_avalanches_size_n(all_times, av_size)\n",
    "    fig, ax = plt.subplots(1, figsize=(6, 6))\n",
    "    ax.hist(waiting_times, bins=np.linspace(min(waiting_times), max(waiting_times), 50))\n",
    "    ax.set_xlabel('Waiting Time (t)', fontsize=12)\n",
    "    ax.set_ylabel('#', fontsize=12)\n",
    "    ax.set_title(f'Waiting Time for avalanches size {av_size}')\n",
    "    #plt.savefig(f'waiting_time_dist_av_size_{av_size}.png', dpi=200)"
   ]
  },
  {
   "cell_type": "code",
   "execution_count": 94,
   "metadata": {},
   "outputs": [
    {
     "data": {
      "image/png": "[encoded data removed]",
      "text/plain": [
       "<Figure size 432x432 with 1 Axes>"
      ]
     },
     "metadata": {
      "needs_background": "light"
     },
     "output_type": "display_data"
    }
   ],
   "source": [
    "plot_waiting_time_hist(avtimes,1)"
   ]
  },
  {
   "cell_type": "code",
   "execution_count": null,
   "metadata": {},
   "outputs": [],
   "source": []
  }
 ],
 "metadata": {
  "kernelspec": {
   "display_name": "Python 3",
   "language": "python",
   "name": "python3"
  },
  "language_info": {
   "codemirror_mode": {
    "name": "ipython",
    "version": 3
   },
   "file_extension": ".py",
   "mimetype": "text/x-python",
   "name": "python",
   "nbconvert_exporter": "python",
   "pygments_lexer": "ipython3",
   "version": "3.8.2"
  }
 },
 "nbformat": 4,
 "nbformat_minor": 4
}
