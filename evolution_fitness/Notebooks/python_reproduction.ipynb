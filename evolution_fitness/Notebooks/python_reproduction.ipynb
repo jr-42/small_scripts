{
 "cells": [
  {
   "cell_type": "code",
   "execution_count": 1,
   "id": "9838e946",
   "metadata": {},
   "outputs": [],
   "source": [
    "import random\n",
    "import matplotlib.pyplot as plt"
   ]
  },
  {
   "cell_type": "code",
   "execution_count": null,
   "id": "361f9e28",
   "metadata": {},
   "outputs": [],
   "source": []
  },
  {
   "cell_type": "code",
   "execution_count": 34,
   "id": "2debe3ca",
   "metadata": {},
   "outputs": [],
   "source": [
    "def sexual_reproduction(optimum: list, population: int=1000):\n",
    "    \n",
    "    # Creates lists to hold various things\n",
    "    rc = []\n",
    "    popchar = []\n",
    "    avefit = []\n",
    "    characters = len(optimum)\n",
    "    #creating a list of lists of random characters\n",
    "    for j in range(population):\n",
    "        for i in range(characters):\n",
    "            numb = random.randint(32, 122)\n",
    "            char = chr(numb)\n",
    "            rc.append(char)\n",
    "        popchar.append(rc)\n",
    "        rc = []\n",
    "\n",
    "    #calculate fitness\n",
    "    fitness = []\n",
    "    for x in range(population):\n",
    "        count = 0\n",
    "        for y in range(characters):\n",
    "            if popchar[x][y] == optimum[y]:\n",
    "                count += 1\n",
    "        fitness.append(count)\n",
    "\n",
    "\n",
    "    check = 0\n",
    "    counter = 0\n",
    "\n",
    "    while check < 1:\n",
    "\n",
    "        #get two random members of population\n",
    "        a = random.randint(0, (population - 1))\n",
    "        b = random.randint(0, (population - 1))\n",
    "        membera = popchar[a]\n",
    "        memberb = popchar[b]\n",
    "        fitnessmembera = fitness[a]\n",
    "        fitnessmemberb = fitness[b]\n",
    "\n",
    "        #see which is fitter and select as parent a\n",
    "        parenta = []\n",
    "        if fitnessmembera > fitnessmemberb:\n",
    "            parenta = parenta + membera\n",
    "        else:\n",
    "            parenta = parenta + memberb\n",
    "\n",
    "        #find another 2 random members\n",
    "        c = random.randint(0, (population - 1))\n",
    "        d = random.randint(0, (population - 1))\n",
    "        memberc = popchar[c]\n",
    "        memberd = popchar[d]\n",
    "        fitnessmemberc = fitness[c]\n",
    "        fitnessmemberd = fitness[d]\n",
    "\n",
    "        #see which is fitter and select as parent b\n",
    "        parentb = []\n",
    "        if fitnessmemberc > fitnessmemberd:\n",
    "            parentb = parentb + memberc\n",
    "        else:\n",
    "            parentb = parentb + memberd\n",
    "\n",
    "        #crossover\n",
    "        child = []\n",
    "        for y in range(characters):\n",
    "            numb2 = random.random()\n",
    "            if numb2 < 0.5:\n",
    "                child.append(parenta[y])\n",
    "            else:\n",
    "                child.append(parentb[y])\n",
    "\n",
    "        #mutate that child\n",
    "        for y in range(characters):\n",
    "            numb2 = random.random()\n",
    "            if numb2 < (1. / len(optimum)):\n",
    "                child[y] = chr(random.randint(32, 122))\n",
    "            else:\n",
    "                child[y] = child[y]\n",
    "\n",
    "        #calculate fitness of child\n",
    "        fitchild = 0\n",
    "        fit = 0\n",
    "        for y in range(characters):\n",
    "            if child[y] == optimum[y]:\n",
    "                fit += 1\n",
    "        fitchild = fitchild + fit\n",
    "\n",
    "        #find another 2 random members\n",
    "        e = random.randint(0, (population - 1))\n",
    "        f = random.randint(0, (population - 1))\n",
    "        membere = popchar[e]\n",
    "        memberf = popchar[f]\n",
    "        fitnessmembere = fitness[e]\n",
    "        fitnessmemberf = fitness[f]\n",
    "\n",
    "        #replace weaker of the two members with the child\n",
    "        if fitnessmembere > fitnessmemberf:\n",
    "            popchar[f] = child\n",
    "            fitness[f] = fitchild\n",
    "        else:\n",
    "            popchar[e] = child\n",
    "            fitness[e] = fitchild\n",
    "            #\n",
    "    #    for i in range(population):\n",
    "    #        numb3 = random.random()\n",
    "    #        if fitness[i] < (sum(fitness)/len(fitness)) and numb3 < 0.5:\n",
    "    #            del popchar[i]\n",
    "    #    populationpopnum = len(popchar)\n",
    "\n",
    "        #checks to see if optimum fitness has been reached\n",
    "        for i in range(population):\n",
    "            if fitness[i] == len(optimum):\n",
    "                check += 1\n",
    "                print(popchar[i])\n",
    "\n",
    "        counter = counter + 1\n",
    "    #\n",
    "        avefit.append((sum(fitness)/len(fitness)))\n",
    "\n",
    "    return counter, avefit"
   ]
  },
  {
   "cell_type": "code",
   "execution_count": 35,
   "id": "3fb5654b",
   "metadata": {},
   "outputs": [
    {
     "name": "stdout",
     "output_type": "stream",
     "text": [
      "['H', 'e', 'l', 'l', 'o', ' ', 'J', 'o', 'e', ',', ' ', 'H', 'o', 'w', ' ', 'a', 'r', 'e', ' ', 'y', 'o', 'u', '?']\n"
     ]
    }
   ],
   "source": [
    "s_generations, s_avefit = sexual_reproduction(optimum=list('Hello Joe, How are you?'), population=1000)"
   ]
  },
  {
   "cell_type": "code",
   "execution_count": 36,
   "id": "5cb49e75",
   "metadata": {},
   "outputs": [
    {
     "data": {
      "text/plain": [
       "12957"
      ]
     },
     "execution_count": 36,
     "metadata": {},
     "output_type": "execute_result"
    }
   ],
   "source": [
    "s_generations"
   ]
  },
  {
   "cell_type": "code",
   "execution_count": 31,
   "id": "afc0ae63",
   "metadata": {},
   "outputs": [],
   "source": [
    "def asexual_reproduction(optimum: list, population: int=1000):\n",
    "    \n",
    "    popchar = []\n",
    "    avefit = []\n",
    "    rc = []\n",
    "\n",
    "    characters = len(optimum)\n",
    "    #creating the population - a list of fairly similar genetic codes\n",
    "    for j in range(population):\n",
    "        for i in range(characters):\n",
    "            numb = random.randint(32, 122)\n",
    "            char = chr(numb)\n",
    "            rc.append(char)\n",
    "        popchar.append(rc)\n",
    "        rc = []\n",
    "    \n",
    "    #calculate fitness - how well adapted that individual is to the \n",
    "    #environment (how close it is to the optimum sentence)\n",
    "    fitness = []\n",
    "    for x in range(population):\n",
    "        count = 0\n",
    "        for y in range(characters):\n",
    "            if popchar[x][y] == optimum[y]:\n",
    "                count += 1\n",
    "        fitness.append(count)\n",
    "    check = 0\n",
    "    counter = 0\n",
    "\n",
    "    while check < 1:\n",
    "        #get two random members of population\n",
    "        a = random.randint(0, (population-1))\n",
    "        b = random.randint(0, (population-1))\n",
    "        membera = popchar[a]\n",
    "        memberb = popchar[b]\n",
    "        fitnessmembera = fitness[a]\n",
    "        fitnessmemberb = fitness[b]\n",
    "        parenta = []\n",
    "        #see which is fitter and select as parent to mutate\n",
    "        if fitnessmembera > fitnessmemberb:\n",
    "            parenta = parenta + membera\n",
    "        else:\n",
    "            parenta = parenta + memberb\n",
    "        #mutate that parent\n",
    "        for y in range(characters):\n",
    "            numb2 = random.random()\n",
    "            if numb2 < (1. / len(optimum)):\n",
    "                parenta[y] = chr(random.randint(32, 122))\n",
    "            else:\n",
    "                parenta[y] = parenta[y]\n",
    "    \n",
    "        child = parenta[:]\n",
    "\n",
    "        #calculate fitness of child\n",
    "        fitchild = 0\n",
    "        fit = 0\n",
    "        for y in range(characters):\n",
    "            if child[y] == optimum[y]:\n",
    "                fit += 1\n",
    "        fitchild = fitchild + fit\n",
    "\n",
    "        #find another 2 random members\n",
    "        c = random.randint(0, (population-1))\n",
    "        d = random.randint(0, (population-1))\n",
    "        memberc = popchar[c]\n",
    "        memberd = popchar[d]\n",
    "        fitnessmemberc = fitness[c]\n",
    "        fitnessmemberd = fitness[d]\n",
    "\n",
    "        #replace weaker of the two members with the child\n",
    "        if fitnessmemberc > fitnessmemberd:\n",
    "            popchar[d] = child\n",
    "            fitness[d] = fitchild\n",
    "        else:\n",
    "            popchar[c] = child\n",
    "            fitness[c] = fitchild\n",
    "\n",
    "        #checks to see if optimum fitness has been reached\n",
    "        for i in range(population):\n",
    "            if fitness[i] == len(optimum):\n",
    "                check += 1\n",
    "                print(popchar[i])\n",
    "\n",
    "        counter = counter + 1\n",
    "    \n",
    "        avefit.append((sum(fitness)/len(fitness)))\n",
    "    \n",
    "    \n",
    "    return counter, avefit"
   ]
  },
  {
   "cell_type": "code",
   "execution_count": 32,
   "id": "fdd7568e",
   "metadata": {},
   "outputs": [
    {
     "name": "stdout",
     "output_type": "stream",
     "text": [
      "['H', 'e', 'l', 'l', 'o', ' ', 'J', 'o', 'e', ',', ' ', 'H', 'o', 'w', ' ', 'a', 'r', 'e', ' ', 'y', 'o', 'u', '?']\n"
     ]
    }
   ],
   "source": [
    "as_generations, as_avefit = asexual_reproduction(optimum=list('Hello Joe, How are you?'), population=1000)"
   ]
  },
  {
   "cell_type": "code",
   "execution_count": 33,
   "id": "228fc471",
   "metadata": {},
   "outputs": [
    {
     "data": {
      "text/plain": [
       "89723"
      ]
     },
     "execution_count": 33,
     "metadata": {},
     "output_type": "execute_result"
    }
   ],
   "source": [
    "as_generations"
   ]
  },
  {
   "cell_type": "code",
   "execution_count": 49,
   "id": "de9b6113",
   "metadata": {},
   "outputs": [],
   "source": [
    "def plot_avefitness(sexual: list, asexual):\n",
    "    fig, ax = plt.subplots(1, figsize=(6,6))\n",
    "    labels = ['sexual', 'asexual']\n",
    "    for av, lab in zip([sexual, asexual], labels):\n",
    "        ax.plot(range(len(av)), av, label=lab)\n",
    "        \n",
    "    ax.set_xlabel('Generations', fontsize=14)\n",
    "    ax.set_ylabel('Fitness', fontsize=14)\n",
    "    ax.legend(loc=4,fontsize=12)\n",
    "    \n",
    "    \n",
    "    \n"
   ]
  },
  {
   "cell_type": "code",
   "execution_count": 50,
   "id": "85796982",
   "metadata": {},
   "outputs": [
    {
     "data": {
      "image/png": "[encoded data removed]",
      "text/plain": [
       "<Figure size 432x432 with 1 Axes>"
      ]
     },
     "metadata": {
      "needs_background": "light"
     },
     "output_type": "display_data"
    }
   ],
   "source": [
    "plot_avefitness(s_avefit, as_avefit)"
   ]
  },
  {
   "cell_type": "code",
   "execution_count": null,
   "id": "24d2b389",
   "metadata": {},
   "outputs": [],
   "source": []
  },
  {
   "cell_type": "code",
   "execution_count": null,
   "id": "9ac166a6",
   "metadata": {},
   "outputs": [],
   "source": []
  },
  {
   "cell_type": "code",
   "execution_count": null,
   "id": "5fa9618b",
   "metadata": {},
   "outputs": [],
   "source": []
  }
 ],
 "metadata": {
  "kernelspec": {
   "display_name": "Python 3.7.3 64-bit ('.venv': venv)",
   "language": "python",
   "name": "python37364bitvenvvenv91aecdb3b0a547ab858370ed6d90bb89"
  },
  "language_info": {
   "codemirror_mode": {
    "name": "ipython",
    "version": 3
   },
   "file_extension": ".py",
   "mimetype": "text/x-python",
   "name": "python",
   "nbconvert_exporter": "python",
   "pygments_lexer": "ipython3",
   "version": "3.8.2"
  }
 },
 "nbformat": 4,
 "nbformat_minor": 5
}
